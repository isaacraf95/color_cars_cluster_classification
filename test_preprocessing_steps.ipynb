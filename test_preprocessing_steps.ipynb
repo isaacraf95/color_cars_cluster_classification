{
 "cells": [
  {
   "cell_type": "code",
   "execution_count": null,
   "id": "591a6a98-4c1c-4196-8067-24221fd996bc",
   "metadata": {},
   "outputs": [],
   "source": [
    "import cv2\n",
    "import matplotlib.pyplot as plt\n",
    "import random\n",
    "import os\n",
    "import numpy as np\n",
    "from utils import remove_specular_component, apply_threshold_segmentation, find_most_informative_region, \\\n",
    "    extract_roi, extract_features"
   ]
  },
  {
   "cell_type": "code",
   "execution_count": null,
   "id": "699710ad-d733-47c6-aec9-f93b792551a4",
   "metadata": {},
   "outputs": [],
   "source": [
    "# Function to load and resize images from a directory\n",
    "def load_images_from_directory(directory, num_images=10, size=(256, 256)):\n",
    "    all_files = [os.path.join(directory, file) for file in os.listdir(directory) if file.endswith('.jpg')]\n",
    "    selected_files = random.sample(all_files, num_images)\n",
    "    images = [cv2.imread(file) for file in selected_files]\n",
    "    resized_images = [cv2.resize(img, size, interpolation=cv2.INTER_AREA) for img in images]\n",
    "    return resized_images"
   ]
  },
  {
   "cell_type": "code",
   "execution_count": null,
   "id": "56fb8fcb-244f-46f3-8543-06476996b981",
   "metadata": {},
   "outputs": [],
   "source": [
    "# Function to process images\n",
    "def process_images(images):\n",
    "    segmented_images = []\n",
    "    for image in images:\n",
    "        specular_free_image_safe = remove_specular_component(image)\n",
    "        color_regions_image = apply_threshold_segmentation(specular_free_image_safe)\n",
    "        row = find_most_informative_region(color_regions_image)\n",
    "        valid_image = cv2.bitwise_and(image, image, mask=color_regions_image)\n",
    "        row2 = extract_roi(valid_image, row, height=70)\n",
    "        print(valid_image.shape)\n",
    "        segmented_images.append(row2)\n",
    "    return segmented_images"
   ]
  },
  {
   "cell_type": "code",
   "execution_count": null,
   "id": "59994ba4-8733-461c-b758-e1bcf9c99984",
   "metadata": {},
   "outputs": [],
   "source": [
    "# Directory where images are stored\n",
    "directory_path = 'cars_images/'\n",
    "\n",
    "# Load images\n",
    "images = load_images_from_directory(directory_path)\n",
    "\n",
    "# Process images\n",
    "segmented_images = process_images(images)\n",
    "\n",
    "# Display segmented images\n",
    "fig, axes = plt.subplots(1, 10, figsize=(30, 20))  # Adjust the size as needed\n",
    "for i, segmented in enumerate(segmented_images):\n",
    "    axes[i].imshow(cv2.cvtColor(segmented, cv2.COLOR_BGR2RGB))\n",
    "    axes[i].set_title(f'Segmented Image {i+1}')\n",
    "    axes[i].axis('off')\n",
    "\n",
    "plt.tight_layout()\n",
    "plt.show()"
   ]
  },
  {
   "cell_type": "code",
   "execution_count": null,
   "id": "5b456ea1-6672-40f4-8eb2-c18c169a730b",
   "metadata": {},
   "outputs": [],
   "source": []
  }
 ],
 "metadata": {
  "kernelspec": {
   "display_name": "Python 3 (ipykernel)",
   "language": "python",
   "name": "python3"
  },
  "language_info": {
   "codemirror_mode": {
    "name": "ipython",
    "version": 3
   },
   "file_extension": ".py",
   "mimetype": "text/x-python",
   "name": "python",
   "nbconvert_exporter": "python",
   "pygments_lexer": "ipython3",
   "version": "3.8.10"
  }
 },
 "nbformat": 4,
 "nbformat_minor": 5
}
